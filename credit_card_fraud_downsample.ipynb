{
 "cells": [
  {
   "cell_type": "code",
   "execution_count": 1,
   "metadata": {
    "_cell_guid": "b1076dfc-b9ad-4769-8c92-a6c4dae69d19",
    "_uuid": "8f2839f25d086af736a60e9eeb907d3b93b6e0e5"
   },
   "outputs": [
    {
     "name": "stdout",
     "output_type": "stream",
     "text": [
      "['creditcard.csv']\n"
     ]
    }
   ],
   "source": [
    "# This Python 3 environment comes with many helpful analytics libraries installed\n",
    "# It is defined by the kaggle/python docker image: https://github.com/kaggle/docker-python\n",
    "# For example, here's several helpful packages to load in \n",
    "\n",
    "import numpy as np # linear algebra\n",
    "import pandas as pd # data processing, CSV file I/O (e.g. pd.read_csv)\n",
    "\n",
    "# Input data files are available in the \"../input/\" directory.\n",
    "# For example, running this (by clicking run or pressing Shift+Enter) will list the files in the input directory\n",
    "\n",
    "import os\n",
    "print(os.listdir(\"../input\"))\n",
    "\n",
    "# Any results you write to the current directory are saved as output."
   ]
  },
  {
   "cell_type": "code",
   "execution_count": 2,
   "metadata": {
    "_cell_guid": "79c7e3d0-c299-4dcb-8224-4455121ee9b0",
    "_uuid": "d629ff2d2480ee46fbb7e2d37f6b5fab8052498a"
   },
   "outputs": [],
   "source": [
    "df = pd.read_csv('../input/creditcard.csv')"
   ]
  },
  {
   "cell_type": "code",
   "execution_count": 3,
   "metadata": {},
   "outputs": [
    {
     "name": "stdout",
     "output_type": "stream",
     "text": [
      "<class 'pandas.core.frame.DataFrame'>\n",
      "RangeIndex: 284807 entries, 0 to 284806\n",
      "Data columns (total 31 columns):\n",
      "Time      284807 non-null float64\n",
      "V1        284807 non-null float64\n",
      "V2        284807 non-null float64\n",
      "V3        284807 non-null float64\n",
      "V4        284807 non-null float64\n",
      "V5        284807 non-null float64\n",
      "V6        284807 non-null float64\n",
      "V7        284807 non-null float64\n",
      "V8        284807 non-null float64\n",
      "V9        284807 non-null float64\n",
      "V10       284807 non-null float64\n",
      "V11       284807 non-null float64\n",
      "V12       284807 non-null float64\n",
      "V13       284807 non-null float64\n",
      "V14       284807 non-null float64\n",
      "V15       284807 non-null float64\n",
      "V16       284807 non-null float64\n",
      "V17       284807 non-null float64\n",
      "V18       284807 non-null float64\n",
      "V19       284807 non-null float64\n",
      "V20       284807 non-null float64\n",
      "V21       284807 non-null float64\n",
      "V22       284807 non-null float64\n",
      "V23       284807 non-null float64\n",
      "V24       284807 non-null float64\n",
      "V25       284807 non-null float64\n",
      "V26       284807 non-null float64\n",
      "V27       284807 non-null float64\n",
      "V28       284807 non-null float64\n",
      "Amount    284807 non-null float64\n",
      "Class     284807 non-null int64\n",
      "dtypes: float64(30), int64(1)\n",
      "memory usage: 67.4 MB\n"
     ]
    }
   ],
   "source": [
    "df.info()"
   ]
  },
  {
   "cell_type": "code",
   "execution_count": 4,
   "metadata": {},
   "outputs": [
    {
     "data": {
      "text/html": [
       "<div>\n",
       "<style scoped>\n",
       "    .dataframe tbody tr th:only-of-type {\n",
       "        vertical-align: middle;\n",
       "    }\n",
       "\n",
       "    .dataframe tbody tr th {\n",
       "        vertical-align: top;\n",
       "    }\n",
       "\n",
       "    .dataframe thead th {\n",
       "        text-align: right;\n",
       "    }\n",
       "</style>\n",
       "<table border=\"1\" class=\"dataframe\">\n",
       "  <thead>\n",
       "    <tr style=\"text-align: right;\">\n",
       "      <th></th>\n",
       "      <th>Time</th>\n",
       "      <th>V1</th>\n",
       "      <th>V2</th>\n",
       "      <th>V3</th>\n",
       "      <th>V4</th>\n",
       "      <th>V5</th>\n",
       "      <th>V6</th>\n",
       "      <th>V7</th>\n",
       "      <th>V8</th>\n",
       "      <th>V9</th>\n",
       "      <th>...</th>\n",
       "      <th>V21</th>\n",
       "      <th>V22</th>\n",
       "      <th>V23</th>\n",
       "      <th>V24</th>\n",
       "      <th>V25</th>\n",
       "      <th>V26</th>\n",
       "      <th>V27</th>\n",
       "      <th>V28</th>\n",
       "      <th>Amount</th>\n",
       "      <th>Class</th>\n",
       "    </tr>\n",
       "  </thead>\n",
       "  <tbody>\n",
       "    <tr>\n",
       "      <td>0</td>\n",
       "      <td>0.0</td>\n",
       "      <td>-1.359807</td>\n",
       "      <td>-0.072781</td>\n",
       "      <td>2.536347</td>\n",
       "      <td>1.378155</td>\n",
       "      <td>-0.338321</td>\n",
       "      <td>0.462388</td>\n",
       "      <td>0.239599</td>\n",
       "      <td>0.098698</td>\n",
       "      <td>0.363787</td>\n",
       "      <td>...</td>\n",
       "      <td>-0.018307</td>\n",
       "      <td>0.277838</td>\n",
       "      <td>-0.110474</td>\n",
       "      <td>0.066928</td>\n",
       "      <td>0.128539</td>\n",
       "      <td>-0.189115</td>\n",
       "      <td>0.133558</td>\n",
       "      <td>-0.021053</td>\n",
       "      <td>149.62</td>\n",
       "      <td>0</td>\n",
       "    </tr>\n",
       "    <tr>\n",
       "      <td>1</td>\n",
       "      <td>0.0</td>\n",
       "      <td>1.191857</td>\n",
       "      <td>0.266151</td>\n",
       "      <td>0.166480</td>\n",
       "      <td>0.448154</td>\n",
       "      <td>0.060018</td>\n",
       "      <td>-0.082361</td>\n",
       "      <td>-0.078803</td>\n",
       "      <td>0.085102</td>\n",
       "      <td>-0.255425</td>\n",
       "      <td>...</td>\n",
       "      <td>-0.225775</td>\n",
       "      <td>-0.638672</td>\n",
       "      <td>0.101288</td>\n",
       "      <td>-0.339846</td>\n",
       "      <td>0.167170</td>\n",
       "      <td>0.125895</td>\n",
       "      <td>-0.008983</td>\n",
       "      <td>0.014724</td>\n",
       "      <td>2.69</td>\n",
       "      <td>0</td>\n",
       "    </tr>\n",
       "    <tr>\n",
       "      <td>2</td>\n",
       "      <td>1.0</td>\n",
       "      <td>-1.358354</td>\n",
       "      <td>-1.340163</td>\n",
       "      <td>1.773209</td>\n",
       "      <td>0.379780</td>\n",
       "      <td>-0.503198</td>\n",
       "      <td>1.800499</td>\n",
       "      <td>0.791461</td>\n",
       "      <td>0.247676</td>\n",
       "      <td>-1.514654</td>\n",
       "      <td>...</td>\n",
       "      <td>0.247998</td>\n",
       "      <td>0.771679</td>\n",
       "      <td>0.909412</td>\n",
       "      <td>-0.689281</td>\n",
       "      <td>-0.327642</td>\n",
       "      <td>-0.139097</td>\n",
       "      <td>-0.055353</td>\n",
       "      <td>-0.059752</td>\n",
       "      <td>378.66</td>\n",
       "      <td>0</td>\n",
       "    </tr>\n",
       "    <tr>\n",
       "      <td>3</td>\n",
       "      <td>1.0</td>\n",
       "      <td>-0.966272</td>\n",
       "      <td>-0.185226</td>\n",
       "      <td>1.792993</td>\n",
       "      <td>-0.863291</td>\n",
       "      <td>-0.010309</td>\n",
       "      <td>1.247203</td>\n",
       "      <td>0.237609</td>\n",
       "      <td>0.377436</td>\n",
       "      <td>-1.387024</td>\n",
       "      <td>...</td>\n",
       "      <td>-0.108300</td>\n",
       "      <td>0.005274</td>\n",
       "      <td>-0.190321</td>\n",
       "      <td>-1.175575</td>\n",
       "      <td>0.647376</td>\n",
       "      <td>-0.221929</td>\n",
       "      <td>0.062723</td>\n",
       "      <td>0.061458</td>\n",
       "      <td>123.50</td>\n",
       "      <td>0</td>\n",
       "    </tr>\n",
       "    <tr>\n",
       "      <td>4</td>\n",
       "      <td>2.0</td>\n",
       "      <td>-1.158233</td>\n",
       "      <td>0.877737</td>\n",
       "      <td>1.548718</td>\n",
       "      <td>0.403034</td>\n",
       "      <td>-0.407193</td>\n",
       "      <td>0.095921</td>\n",
       "      <td>0.592941</td>\n",
       "      <td>-0.270533</td>\n",
       "      <td>0.817739</td>\n",
       "      <td>...</td>\n",
       "      <td>-0.009431</td>\n",
       "      <td>0.798278</td>\n",
       "      <td>-0.137458</td>\n",
       "      <td>0.141267</td>\n",
       "      <td>-0.206010</td>\n",
       "      <td>0.502292</td>\n",
       "      <td>0.219422</td>\n",
       "      <td>0.215153</td>\n",
       "      <td>69.99</td>\n",
       "      <td>0</td>\n",
       "    </tr>\n",
       "  </tbody>\n",
       "</table>\n",
       "<p>5 rows × 31 columns</p>\n",
       "</div>"
      ],
      "text/plain": [
       "   Time        V1        V2        V3        V4        V5        V6        V7  \\\n",
       "0   0.0 -1.359807 -0.072781  2.536347  1.378155 -0.338321  0.462388  0.239599   \n",
       "1   0.0  1.191857  0.266151  0.166480  0.448154  0.060018 -0.082361 -0.078803   \n",
       "2   1.0 -1.358354 -1.340163  1.773209  0.379780 -0.503198  1.800499  0.791461   \n",
       "3   1.0 -0.966272 -0.185226  1.792993 -0.863291 -0.010309  1.247203  0.237609   \n",
       "4   2.0 -1.158233  0.877737  1.548718  0.403034 -0.407193  0.095921  0.592941   \n",
       "\n",
       "         V8        V9  ...       V21       V22       V23       V24       V25  \\\n",
       "0  0.098698  0.363787  ... -0.018307  0.277838 -0.110474  0.066928  0.128539   \n",
       "1  0.085102 -0.255425  ... -0.225775 -0.638672  0.101288 -0.339846  0.167170   \n",
       "2  0.247676 -1.514654  ...  0.247998  0.771679  0.909412 -0.689281 -0.327642   \n",
       "3  0.377436 -1.387024  ... -0.108300  0.005274 -0.190321 -1.175575  0.647376   \n",
       "4 -0.270533  0.817739  ... -0.009431  0.798278 -0.137458  0.141267 -0.206010   \n",
       "\n",
       "        V26       V27       V28  Amount  Class  \n",
       "0 -0.189115  0.133558 -0.021053  149.62      0  \n",
       "1  0.125895 -0.008983  0.014724    2.69      0  \n",
       "2 -0.139097 -0.055353 -0.059752  378.66      0  \n",
       "3 -0.221929  0.062723  0.061458  123.50      0  \n",
       "4  0.502292  0.219422  0.215153   69.99      0  \n",
       "\n",
       "[5 rows x 31 columns]"
      ]
     },
     "execution_count": 4,
     "metadata": {},
     "output_type": "execute_result"
    }
   ],
   "source": [
    "df.head(5)"
   ]
  },
  {
   "cell_type": "markdown",
   "metadata": {},
   "source": [
    "### Downsampling"
   ]
  },
  {
   "cell_type": "code",
   "execution_count": 5,
   "metadata": {},
   "outputs": [
    {
     "data": {
      "text/html": [
       "<div>\n",
       "<style scoped>\n",
       "    .dataframe tbody tr th:only-of-type {\n",
       "        vertical-align: middle;\n",
       "    }\n",
       "\n",
       "    .dataframe tbody tr th {\n",
       "        vertical-align: top;\n",
       "    }\n",
       "\n",
       "    .dataframe thead th {\n",
       "        text-align: right;\n",
       "    }\n",
       "</style>\n",
       "<table border=\"1\" class=\"dataframe\">\n",
       "  <thead>\n",
       "    <tr style=\"text-align: right;\">\n",
       "      <th></th>\n",
       "      <th>Time</th>\n",
       "      <th>V1</th>\n",
       "      <th>V2</th>\n",
       "      <th>V3</th>\n",
       "      <th>V4</th>\n",
       "      <th>V5</th>\n",
       "      <th>V6</th>\n",
       "      <th>V7</th>\n",
       "      <th>V8</th>\n",
       "      <th>V9</th>\n",
       "      <th>...</th>\n",
       "      <th>V21</th>\n",
       "      <th>V22</th>\n",
       "      <th>V23</th>\n",
       "      <th>V24</th>\n",
       "      <th>V25</th>\n",
       "      <th>V26</th>\n",
       "      <th>V27</th>\n",
       "      <th>V28</th>\n",
       "      <th>Amount</th>\n",
       "      <th>Class</th>\n",
       "    </tr>\n",
       "  </thead>\n",
       "  <tbody>\n",
       "    <tr>\n",
       "      <td>146884</td>\n",
       "      <td>87941.0</td>\n",
       "      <td>2.054361</td>\n",
       "      <td>-0.122642</td>\n",
       "      <td>-1.245717</td>\n",
       "      <td>0.189567</td>\n",
       "      <td>0.132497</td>\n",
       "      <td>-0.620765</td>\n",
       "      <td>0.059581</td>\n",
       "      <td>-0.148058</td>\n",
       "      <td>0.338940</td>\n",
       "      <td>...</td>\n",
       "      <td>-0.271204</td>\n",
       "      <td>-0.687048</td>\n",
       "      <td>0.271569</td>\n",
       "      <td>-0.497120</td>\n",
       "      <td>-0.270115</td>\n",
       "      <td>0.208619</td>\n",
       "      <td>-0.076075</td>\n",
       "      <td>-0.075428</td>\n",
       "      <td>0.99</td>\n",
       "      <td>0</td>\n",
       "    </tr>\n",
       "    <tr>\n",
       "      <td>95597</td>\n",
       "      <td>65385.0</td>\n",
       "      <td>-2.923827</td>\n",
       "      <td>1.524837</td>\n",
       "      <td>-3.018758</td>\n",
       "      <td>3.289291</td>\n",
       "      <td>-5.755542</td>\n",
       "      <td>2.218276</td>\n",
       "      <td>-0.509995</td>\n",
       "      <td>-3.569444</td>\n",
       "      <td>-1.016592</td>\n",
       "      <td>...</td>\n",
       "      <td>-0.511657</td>\n",
       "      <td>-0.122724</td>\n",
       "      <td>-4.288639</td>\n",
       "      <td>0.563797</td>\n",
       "      <td>-0.949451</td>\n",
       "      <td>-0.204532</td>\n",
       "      <td>1.510206</td>\n",
       "      <td>-0.324706</td>\n",
       "      <td>1354.25</td>\n",
       "      <td>1</td>\n",
       "    </tr>\n",
       "    <tr>\n",
       "      <td>96768</td>\n",
       "      <td>65927.0</td>\n",
       "      <td>0.955253</td>\n",
       "      <td>-0.833374</td>\n",
       "      <td>0.847147</td>\n",
       "      <td>0.725970</td>\n",
       "      <td>-1.322868</td>\n",
       "      <td>-0.238842</td>\n",
       "      <td>-0.565347</td>\n",
       "      <td>0.022443</td>\n",
       "      <td>-0.762247</td>\n",
       "      <td>...</td>\n",
       "      <td>-0.110554</td>\n",
       "      <td>-0.129397</td>\n",
       "      <td>-0.040892</td>\n",
       "      <td>0.364872</td>\n",
       "      <td>0.204756</td>\n",
       "      <td>-0.304578</td>\n",
       "      <td>0.055908</td>\n",
       "      <td>0.062489</td>\n",
       "      <td>156.00</td>\n",
       "      <td>0</td>\n",
       "    </tr>\n",
       "    <tr>\n",
       "      <td>75511</td>\n",
       "      <td>56098.0</td>\n",
       "      <td>-1.229669</td>\n",
       "      <td>1.956099</td>\n",
       "      <td>-0.851198</td>\n",
       "      <td>2.796987</td>\n",
       "      <td>-1.913977</td>\n",
       "      <td>-0.044934</td>\n",
       "      <td>-1.340739</td>\n",
       "      <td>-0.555548</td>\n",
       "      <td>-1.184468</td>\n",
       "      <td>...</td>\n",
       "      <td>1.208054</td>\n",
       "      <td>0.277612</td>\n",
       "      <td>0.019266</td>\n",
       "      <td>0.508529</td>\n",
       "      <td>-0.201183</td>\n",
       "      <td>-0.249600</td>\n",
       "      <td>0.562239</td>\n",
       "      <td>0.075309</td>\n",
       "      <td>170.92</td>\n",
       "      <td>1</td>\n",
       "    </tr>\n",
       "    <tr>\n",
       "      <td>255556</td>\n",
       "      <td>157284.0</td>\n",
       "      <td>-0.242245</td>\n",
       "      <td>4.147186</td>\n",
       "      <td>-5.672349</td>\n",
       "      <td>6.493741</td>\n",
       "      <td>1.591168</td>\n",
       "      <td>-1.602523</td>\n",
       "      <td>-0.950463</td>\n",
       "      <td>0.722903</td>\n",
       "      <td>-4.128505</td>\n",
       "      <td>...</td>\n",
       "      <td>0.249023</td>\n",
       "      <td>-0.480286</td>\n",
       "      <td>-0.286080</td>\n",
       "      <td>-1.153575</td>\n",
       "      <td>-0.035571</td>\n",
       "      <td>0.559628</td>\n",
       "      <td>0.409446</td>\n",
       "      <td>0.221048</td>\n",
       "      <td>0.77</td>\n",
       "      <td>1</td>\n",
       "    </tr>\n",
       "  </tbody>\n",
       "</table>\n",
       "<p>5 rows × 31 columns</p>\n",
       "</div>"
      ],
      "text/plain": [
       "            Time        V1        V2        V3        V4        V5        V6  \\\n",
       "146884   87941.0  2.054361 -0.122642 -1.245717  0.189567  0.132497 -0.620765   \n",
       "95597    65385.0 -2.923827  1.524837 -3.018758  3.289291 -5.755542  2.218276   \n",
       "96768    65927.0  0.955253 -0.833374  0.847147  0.725970 -1.322868 -0.238842   \n",
       "75511    56098.0 -1.229669  1.956099 -0.851198  2.796987 -1.913977 -0.044934   \n",
       "255556  157284.0 -0.242245  4.147186 -5.672349  6.493741  1.591168 -1.602523   \n",
       "\n",
       "              V7        V8        V9  ...       V21       V22       V23  \\\n",
       "146884  0.059581 -0.148058  0.338940  ... -0.271204 -0.687048  0.271569   \n",
       "95597  -0.509995 -3.569444 -1.016592  ... -0.511657 -0.122724 -4.288639   \n",
       "96768  -0.565347  0.022443 -0.762247  ... -0.110554 -0.129397 -0.040892   \n",
       "75511  -1.340739 -0.555548 -1.184468  ...  1.208054  0.277612  0.019266   \n",
       "255556 -0.950463  0.722903 -4.128505  ...  0.249023 -0.480286 -0.286080   \n",
       "\n",
       "             V24       V25       V26       V27       V28   Amount  Class  \n",
       "146884 -0.497120 -0.270115  0.208619 -0.076075 -0.075428     0.99      0  \n",
       "95597   0.563797 -0.949451 -0.204532  1.510206 -0.324706  1354.25      1  \n",
       "96768   0.364872  0.204756 -0.304578  0.055908  0.062489   156.00      0  \n",
       "75511   0.508529 -0.201183 -0.249600  0.562239  0.075309   170.92      1  \n",
       "255556 -1.153575 -0.035571  0.559628  0.409446  0.221048     0.77      1  \n",
       "\n",
       "[5 rows x 31 columns]"
      ]
     },
     "execution_count": 5,
     "metadata": {},
     "output_type": "execute_result"
    }
   ],
   "source": [
    "df = df.sample(frac=1, random_state = 42)\n",
    "fraud_df = df.loc[df['Class'] == 1]\n",
    "non_fraud_df = df.loc[df['Class'] == 0][:492]\n",
    "\n",
    "normal_distributed_df = pd.concat([fraud_df, non_fraud_df])\n",
    "\n",
    "new_df = normal_distributed_df.sample(frac=1, random_state=42)\n",
    "new_df.head(5)"
   ]
  },
  {
   "cell_type": "code",
   "execution_count": 6,
   "metadata": {},
   "outputs": [
    {
     "name": "stdout",
     "output_type": "stream",
     "text": [
      "<class 'pandas.core.frame.DataFrame'>\n",
      "Int64Index: 984 entries, 146884 to 149869\n",
      "Data columns (total 31 columns):\n",
      "Time      984 non-null float64\n",
      "V1        984 non-null float64\n",
      "V2        984 non-null float64\n",
      "V3        984 non-null float64\n",
      "V4        984 non-null float64\n",
      "V5        984 non-null float64\n",
      "V6        984 non-null float64\n",
      "V7        984 non-null float64\n",
      "V8        984 non-null float64\n",
      "V9        984 non-null float64\n",
      "V10       984 non-null float64\n",
      "V11       984 non-null float64\n",
      "V12       984 non-null float64\n",
      "V13       984 non-null float64\n",
      "V14       984 non-null float64\n",
      "V15       984 non-null float64\n",
      "V16       984 non-null float64\n",
      "V17       984 non-null float64\n",
      "V18       984 non-null float64\n",
      "V19       984 non-null float64\n",
      "V20       984 non-null float64\n",
      "V21       984 non-null float64\n",
      "V22       984 non-null float64\n",
      "V23       984 non-null float64\n",
      "V24       984 non-null float64\n",
      "V25       984 non-null float64\n",
      "V26       984 non-null float64\n",
      "V27       984 non-null float64\n",
      "V28       984 non-null float64\n",
      "Amount    984 non-null float64\n",
      "Class     984 non-null int64\n",
      "dtypes: float64(30), int64(1)\n",
      "memory usage: 246.0 KB\n"
     ]
    }
   ],
   "source": [
    "new_df.info()"
   ]
  },
  {
   "cell_type": "code",
   "execution_count": 7,
   "metadata": {},
   "outputs": [
    {
     "name": "stdout",
     "output_type": "stream",
     "text": [
      "X.shape:  (984, 30)\n",
      "y.shape:  (984,)\n"
     ]
    }
   ],
   "source": [
    "X = new_df.drop('Class', axis = 1)\n",
    "y = new_df['Class']\n",
    "\n",
    "print(\"X.shape: \", X.shape)\n",
    "print(\"y.shape: \", y.shape)"
   ]
  },
  {
   "cell_type": "code",
   "execution_count": 8,
   "metadata": {},
   "outputs": [
    {
     "name": "stdout",
     "output_type": "stream",
     "text": [
      "X_train.shape:  (787, 30)\n",
      "X_test.shape:  (197, 30)\n",
      "y_train.shape:  (787,)\n",
      "y_test.shape:  (197,)\n"
     ]
    }
   ],
   "source": [
    "from sklearn.model_selection import train_test_split\n",
    "\n",
    "X_train, X_test, y_train, y_test = train_test_split(\n",
    "    X, y, test_size = 0.2, stratify = y, random_state = 42)\n",
    "\n",
    "print(\"X_train.shape: \", X_train.shape)\n",
    "print(\"X_test.shape: \", X_test.shape)\n",
    "print(\"y_train.shape: \", y_train.shape)\n",
    "print(\"y_test.shape: \", y_test.shape)"
   ]
  },
  {
   "cell_type": "code",
   "execution_count": 9,
   "metadata": {},
   "outputs": [
    {
     "name": "stdout",
     "output_type": "stream",
     "text": [
      "X_train_std.shape:  (787, 30)\n",
      "X_test_std.shape:  (197, 30)\n"
     ]
    }
   ],
   "source": [
    "from sklearn.preprocessing import StandardScaler\n",
    "\n",
    "sc_model = StandardScaler()\n",
    "sc_model.fit(X_train)\n",
    "\n",
    "X_train_std = sc_model.transform(X_train)\n",
    "X_test_std = sc_model.transform(X_test)\n",
    "\n",
    "print(\"X_train_std.shape: \", X_train_std.shape)\n",
    "print(\"X_test_std.shape: \", X_test_std.shape)"
   ]
  },
  {
   "cell_type": "markdown",
   "metadata": {},
   "source": [
    "### Logistic Regression "
   ]
  },
  {
   "cell_type": "code",
   "execution_count": 10,
   "metadata": {},
   "outputs": [],
   "source": [
    "from sklearn.model_selection import cross_val_score\n",
    "from sklearn.metrics import confusion_matrix\n",
    "from sklearn.metrics import precision_score, recall_score, f1_score\n",
    "from sklearn.linear_model import LogisticRegression"
   ]
  },
  {
   "cell_type": "code",
   "execution_count": 11,
   "metadata": {},
   "outputs": [
    {
     "name": "stdout",
     "output_type": "stream",
     "text": [
      "log_scores:  [0.9125     0.975      0.925      0.96202532 0.93589744 0.96153846\n",
      " 0.94871795 0.98717949 0.91025641 0.96153846]\n",
      "Mean score:  0.9479653521583901\n",
      "Std deviation:  0.024875943538302702\n"
     ]
    }
   ],
   "source": [
    "log_model = LogisticRegression(solver = 'lbfgs', random_state = 42)\n",
    "log_scores = cross_val_score(log_model, X_train_std, y_train, cv = 10)\n",
    "print(\"log_scores: \", log_scores)\n",
    "print(\"Mean score: \", log_scores.mean())\n",
    "print(\"Std deviation: \", log_scores.std())"
   ]
  },
  {
   "cell_type": "code",
   "execution_count": 12,
   "metadata": {},
   "outputs": [
    {
     "data": {
      "text/plain": [
       "0.9289340101522843"
      ]
     },
     "execution_count": 12,
     "metadata": {},
     "output_type": "execute_result"
    }
   ],
   "source": [
    "log_model.fit(X_train_std, y_train)\n",
    "log_model_score = log_model.score(X_test_std, y_test)\n",
    "log_model_score"
   ]
  },
  {
   "cell_type": "code",
   "execution_count": 13,
   "metadata": {},
   "outputs": [
    {
     "name": "stdout",
     "output_type": "stream",
     "text": [
      "96 3 11 87\n",
      "[[96  3]\n",
      " [11 87]]\n"
     ]
    }
   ],
   "source": [
    "log_yy_pred = log_model.predict(X_test_std) \n",
    "log_model_confMatrix = confusion_matrix(y_true=y_test, y_pred=log_yy_pred)\n",
    "tn, fp, fn, tp = confusion_matrix(y_true=y_test, y_pred=log_yy_pred).ravel()\n",
    "print(tn, fp, fn, tp)\n",
    "\n",
    "print(log_model_confMatrix)"
   ]
  },
  {
   "cell_type": "code",
   "execution_count": 14,
   "metadata": {},
   "outputs": [
    {
     "name": "stdout",
     "output_type": "stream",
     "text": [
      "Precision: 0.967\n",
      "Recall: 0.888\n",
      "F1: 0.926\n"
     ]
    }
   ],
   "source": [
    "print('Precision: %.3f' % precision_score(y_true=y_test, y_pred=log_yy_pred))\n",
    "print('Recall: %.3f' % recall_score(y_true=y_test, y_pred=log_yy_pred))\n",
    "print('F1: %.3f' % f1_score(y_true=y_test, y_pred=log_yy_pred))"
   ]
  },
  {
   "cell_type": "markdown",
   "metadata": {},
   "source": [
    "### 2.1 Support Vector Machines - SVC linear  "
   ]
  },
  {
   "cell_type": "code",
   "execution_count": 15,
   "metadata": {},
   "outputs": [],
   "source": [
    "from sklearn.svm import SVC"
   ]
  },
  {
   "cell_type": "code",
   "execution_count": 16,
   "metadata": {},
   "outputs": [],
   "source": [
    "svm_linear_model = SVC(C=1, cache_size=200, class_weight=None, coef0=0.0,\n",
    "  decision_function_shape='ovr', degree=3, gamma='auto_deprecated',\n",
    "  kernel='linear', max_iter=-1, probability=False, random_state=42,\n",
    "  shrinking=True, tol=0.001, verbose=False)"
   ]
  },
  {
   "cell_type": "code",
   "execution_count": 17,
   "metadata": {},
   "outputs": [
    {
     "name": "stdout",
     "output_type": "stream",
     "text": [
      "svm_linear_scores:  [0.9125     0.975      0.9375     0.93670886 0.93589744 0.96153846\n",
      " 0.94871795 0.98717949 0.8974359  0.96153846]\n",
      "Mean score:  0.9454016553067186\n",
      "Std deviation:  0.026009236719929392\n"
     ]
    }
   ],
   "source": [
    "svm_linear_scores = cross_val_score(svm_linear_model, X_train_std, y_train, cv = 10)\n",
    "print(\"svm_linear_scores: \", svm_linear_scores)\n",
    "print(\"Mean score: \", svm_linear_scores.mean())\n",
    "print(\"Std deviation: \", svm_linear_scores.std())"
   ]
  },
  {
   "cell_type": "code",
   "execution_count": 18,
   "metadata": {},
   "outputs": [
    {
     "data": {
      "text/plain": [
       "0.9137055837563451"
      ]
     },
     "execution_count": 18,
     "metadata": {},
     "output_type": "execute_result"
    }
   ],
   "source": [
    "svm_linear_model.fit(X_train_std, y_train)\n",
    "svm_linear_score = svm_linear_model.score(X_test_std, y_test)\n",
    "\n",
    "svm_linear_score"
   ]
  },
  {
   "cell_type": "code",
   "execution_count": 19,
   "metadata": {},
   "outputs": [
    {
     "name": "stdout",
     "output_type": "stream",
     "text": [
      "[[97  2]\n",
      " [15 83]]\n"
     ]
    }
   ],
   "source": [
    "svm_linear_yy_pred = svm_linear_model.predict(X_test_std) \n",
    "svm_linear_model_confMatrix = confusion_matrix(y_true=y_test, y_pred=svm_linear_yy_pred)\n",
    "print(svm_linear_model_confMatrix)"
   ]
  },
  {
   "cell_type": "code",
   "execution_count": 20,
   "metadata": {},
   "outputs": [
    {
     "name": "stdout",
     "output_type": "stream",
     "text": [
      "Precision: 0.976\n",
      "Recall: 0.847\n",
      "F1: 0.907\n"
     ]
    }
   ],
   "source": [
    "print('Precision: %.3f' % precision_score(y_true=y_test, y_pred=svm_linear_yy_pred))\n",
    "print('Recall: %.3f' % recall_score(y_true=y_test, y_pred=svm_linear_yy_pred))\n",
    "print('F1: %.3f' % f1_score(y_true=y_test, y_pred=svm_linear_yy_pred))"
   ]
  },
  {
   "cell_type": "markdown",
   "metadata": {},
   "source": [
    "### 2.2 Support Vector Machines - SVC Kernal(rbf)"
   ]
  },
  {
   "cell_type": "code",
   "execution_count": 21,
   "metadata": {},
   "outputs": [],
   "source": [
    "svm_rbf_model = SVC(C=1, cache_size=200, class_weight=None, coef0=0.0,\n",
    "  decision_function_shape='ovr', degree=3, gamma=0.6, kernel='rbf',\n",
    "  max_iter=-1, probability=False, random_state=42, shrinking=True,\n",
    "  tol=0.001, verbose=False)"
   ]
  },
  {
   "cell_type": "code",
   "execution_count": 22,
   "metadata": {},
   "outputs": [
    {
     "name": "stdout",
     "output_type": "stream",
     "text": [
      "svm_rbf_scores:  [0.7875     0.825      0.85       0.89873418 0.80769231 0.87179487\n",
      " 0.84615385 0.87179487 0.84615385 0.85897436]\n",
      "Mean score:  0.8463798279779292\n",
      "Std deviation:  0.031024687256243348\n"
     ]
    }
   ],
   "source": [
    "svm_rbf_scores = cross_val_score(svm_rbf_model, X_train_std, y_train, cv = 10)\n",
    "print(\"svm_rbf_scores: \", svm_rbf_scores)\n",
    "print(\"Mean score: \", svm_rbf_scores.mean())\n",
    "print(\"Std deviation: \", svm_rbf_scores.std())"
   ]
  },
  {
   "cell_type": "code",
   "execution_count": 23,
   "metadata": {},
   "outputs": [
    {
     "data": {
      "text/plain": [
       "0.8426395939086294"
      ]
     },
     "execution_count": 23,
     "metadata": {},
     "output_type": "execute_result"
    }
   ],
   "source": [
    "svm_rbf_model.fit(X_train_std, y_train)\n",
    "svm_rbf_score = svm_rbf_model.score(X_test_std, y_test)\n",
    "svm_rbf_score"
   ]
  },
  {
   "cell_type": "code",
   "execution_count": 24,
   "metadata": {},
   "outputs": [
    {
     "name": "stdout",
     "output_type": "stream",
     "text": [
      "[[74 25]\n",
      " [ 6 92]]\n"
     ]
    }
   ],
   "source": [
    "svm_rbf_yy_pred = svm_rbf_model.predict(X_test_std) \n",
    "svm_rbf_model_confMatrix = confusion_matrix(y_true=y_test, y_pred=svm_rbf_yy_pred)\n",
    "print(svm_rbf_model_confMatrix)"
   ]
  },
  {
   "cell_type": "code",
   "execution_count": 25,
   "metadata": {},
   "outputs": [
    {
     "name": "stdout",
     "output_type": "stream",
     "text": [
      "Precision: 0.786\n",
      "Recall: 0.939\n",
      "F1: 0.856\n"
     ]
    }
   ],
   "source": [
    "print('Precision: %.3f' % precision_score(y_true=y_test, y_pred=svm_rbf_yy_pred))\n",
    "print('Recall: %.3f' % recall_score(y_true=y_test, y_pred=svm_rbf_yy_pred))\n",
    "print('F1: %.3f' % f1_score(y_true=y_test, y_pred=svm_rbf_yy_pred))"
   ]
  },
  {
   "cell_type": "markdown",
   "metadata": {},
   "source": [
    "### 3. Decision Tree Classifier"
   ]
  },
  {
   "cell_type": "code",
   "execution_count": 26,
   "metadata": {},
   "outputs": [],
   "source": [
    "from sklearn.tree import DecisionTreeClassifier"
   ]
  },
  {
   "cell_type": "code",
   "execution_count": 27,
   "metadata": {},
   "outputs": [],
   "source": [
    "tree_clf_model = DecisionTreeClassifier(class_weight=None, criterion='gini', max_depth=3,\n",
    "            max_features=None, max_leaf_nodes=None,\n",
    "            min_impurity_decrease=0.0, min_impurity_split=None,\n",
    "            min_samples_leaf=1, min_samples_split=2,\n",
    "            min_weight_fraction_leaf=0.0, presort=False, random_state=42,\n",
    "            splitter='best')"
   ]
  },
  {
   "cell_type": "code",
   "execution_count": 28,
   "metadata": {},
   "outputs": [
    {
     "name": "stdout",
     "output_type": "stream",
     "text": [
      "tree_clf_scores:  [0.9        0.9375     0.9125     0.93670886 0.91025641 0.93589744\n",
      " 0.8974359  0.93589744 0.92307692 0.93589744]\n",
      "Mean score:  0.9225170399221032\n",
      "Std deviation:  0.015329906241594604\n"
     ]
    }
   ],
   "source": [
    "tree_clf_scores = cross_val_score(tree_clf_model, X_train_std, y_train, cv = 10)\n",
    "print(\"tree_clf_scores: \", tree_clf_scores)\n",
    "print(\"Mean score: \", tree_clf_scores.mean())\n",
    "print(\"Std deviation: \", tree_clf_scores.std())"
   ]
  },
  {
   "cell_type": "code",
   "execution_count": 29,
   "metadata": {},
   "outputs": [
    {
     "data": {
      "text/plain": [
       "0.9086294416243654"
      ]
     },
     "execution_count": 29,
     "metadata": {},
     "output_type": "execute_result"
    }
   ],
   "source": [
    "tree_clf_model.fit(X_train_std, y_train)\n",
    "tree_clf_score = tree_clf_model.score(X_test_std, y_test)\n",
    "tree_clf_score"
   ]
  },
  {
   "cell_type": "code",
   "execution_count": 30,
   "metadata": {},
   "outputs": [
    {
     "name": "stdout",
     "output_type": "stream",
     "text": [
      "[[95  4]\n",
      " [14 84]]\n"
     ]
    }
   ],
   "source": [
    "tree_clf_yy_pred = tree_clf_model.predict(X_test_std) \n",
    "tree_clf_model_confMatrix = confusion_matrix(y_true=y_test, y_pred=tree_clf_yy_pred)\n",
    "print(tree_clf_model_confMatrix)"
   ]
  },
  {
   "cell_type": "code",
   "execution_count": 31,
   "metadata": {},
   "outputs": [
    {
     "name": "stdout",
     "output_type": "stream",
     "text": [
      "Precision: 0.955\n",
      "Recall: 0.857\n",
      "F1: 0.903\n"
     ]
    }
   ],
   "source": [
    "print('Precision: %.3f' % precision_score(y_true=y_test, y_pred=tree_clf_yy_pred))\n",
    "print('Recall: %.3f' % recall_score(y_true=y_test, y_pred=tree_clf_yy_pred))\n",
    "print('F1: %.3f' % f1_score(y_true=y_test, y_pred=tree_clf_yy_pred))"
   ]
  }
 ],
 "metadata": {
  "kernelspec": {
   "display_name": "Python 3",
   "language": "python",
   "name": "python3"
  },
  "language_info": {
   "codemirror_mode": {
    "name": "ipython",
    "version": 3
   },
   "file_extension": ".py",
   "mimetype": "text/x-python",
   "name": "python",
   "nbconvert_exporter": "python",
   "pygments_lexer": "ipython3",
   "version": "3.6.7"
  }
 },
 "nbformat": 4,
 "nbformat_minor": 1
}
